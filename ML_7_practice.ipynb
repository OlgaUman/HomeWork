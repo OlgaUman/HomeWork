{
 "cells": [
  {
   "cell_type": "markdown",
   "metadata": {},
   "source": [
    "### Прогнозирование биологического ответа"
   ]
  },
  {
   "cell_type": "markdown",
   "metadata": {},
   "source": [
    "Данные представлены в формате CSV.  Каждая строка представляет молекулу. \n",
    "\n",
    "Первый столбец Activity содержит экспериментальные данные, описывающие фактический биологический ответ [0, 1]; \n",
    "Остальные столбцы D1-D1776 представляют собой молекулярные дескрипторы — это вычисляемые свойства, которые могут фиксировать некоторые характеристики молекулы, например размер, форму или состав элементов.\n",
    "\n",
    "В качестве метрики будем использовать F1-score.\n",
    "\n",
    "Необходимо обучить две модели: логистическую регрессию и случайный лес. \n",
    "\n",
    "Далее нужно сделать подбор гиперпараметров с помощью базовых и продвинутых методов оптимизации. \n",
    "\n",
    "Важно использовать все четыре метода (GridSeachCV, RandomizedSearchCV, Hyperopt, Optuna) хотя бы по разу, максимальное количество итераций не должно превышать 50.\n"
   ]
  },
  {
   "cell_type": "code",
   "execution_count": 1,
   "metadata": {},
   "outputs": [],
   "source": [
    "# Импорт библиотек\n",
    "import numpy as np\n",
    "import pandas as pd\n",
    "\n",
    "from sklearn import linear_model\n",
    "from sklearn import ensemble\n",
    "from sklearn import metrics\n",
    "from sklearn import model_selection\n",
    "\n",
    "from sklearn.model_selection import GridSearchCV, RandomizedSearchCV\n",
    "from sklearn.model_selection import cross_val_score\n",
    "from sklearn.model_selection import train_test_split\n",
    "\n",
    "import hyperopt\n",
    "from hyperopt import Trials, fmin, hp, tpe\n",
    "\n",
    "import optuna\n",
    "#import matplotlib.pyplot as plt\n",
    "import seaborn as sns\n",
    "\n",
    "#import warnings\n",
    "#warnings.filterwarnings('ignore')"
   ]
  },
  {
   "cell_type": "code",
   "execution_count": 2,
   "metadata": {},
   "outputs": [],
   "source": [
    "# Загружаем данные\n",
    "data = pd.read_csv('data/_train_sem09__1_.zip')"
   ]
  },
  {
   "cell_type": "code",
   "execution_count": 3,
   "metadata": {},
   "outputs": [
    {
     "data": {
      "text/html": [
       "<div>\n",
       "<style scoped>\n",
       "    .dataframe tbody tr th:only-of-type {\n",
       "        vertical-align: middle;\n",
       "    }\n",
       "\n",
       "    .dataframe tbody tr th {\n",
       "        vertical-align: top;\n",
       "    }\n",
       "\n",
       "    .dataframe thead th {\n",
       "        text-align: right;\n",
       "    }\n",
       "</style>\n",
       "<table border=\"1\" class=\"dataframe\">\n",
       "  <thead>\n",
       "    <tr style=\"text-align: right;\">\n",
       "      <th></th>\n",
       "      <th>Activity</th>\n",
       "      <th>D1</th>\n",
       "      <th>D2</th>\n",
       "      <th>D3</th>\n",
       "      <th>D4</th>\n",
       "      <th>D5</th>\n",
       "      <th>D6</th>\n",
       "      <th>D7</th>\n",
       "      <th>D8</th>\n",
       "      <th>D9</th>\n",
       "      <th>...</th>\n",
       "      <th>D1767</th>\n",
       "      <th>D1768</th>\n",
       "      <th>D1769</th>\n",
       "      <th>D1770</th>\n",
       "      <th>D1771</th>\n",
       "      <th>D1772</th>\n",
       "      <th>D1773</th>\n",
       "      <th>D1774</th>\n",
       "      <th>D1775</th>\n",
       "      <th>D1776</th>\n",
       "    </tr>\n",
       "  </thead>\n",
       "  <tbody>\n",
       "    <tr>\n",
       "      <th>0</th>\n",
       "      <td>1</td>\n",
       "      <td>0.000000</td>\n",
       "      <td>0.497009</td>\n",
       "      <td>0.10</td>\n",
       "      <td>0.0</td>\n",
       "      <td>0.132956</td>\n",
       "      <td>0.678031</td>\n",
       "      <td>0.273166</td>\n",
       "      <td>0.585445</td>\n",
       "      <td>0.743663</td>\n",
       "      <td>...</td>\n",
       "      <td>0</td>\n",
       "      <td>0</td>\n",
       "      <td>0</td>\n",
       "      <td>0</td>\n",
       "      <td>0</td>\n",
       "      <td>0</td>\n",
       "      <td>0</td>\n",
       "      <td>0</td>\n",
       "      <td>0</td>\n",
       "      <td>0</td>\n",
       "    </tr>\n",
       "    <tr>\n",
       "      <th>1</th>\n",
       "      <td>1</td>\n",
       "      <td>0.366667</td>\n",
       "      <td>0.606291</td>\n",
       "      <td>0.05</td>\n",
       "      <td>0.0</td>\n",
       "      <td>0.111209</td>\n",
       "      <td>0.803455</td>\n",
       "      <td>0.106105</td>\n",
       "      <td>0.411754</td>\n",
       "      <td>0.836582</td>\n",
       "      <td>...</td>\n",
       "      <td>1</td>\n",
       "      <td>1</td>\n",
       "      <td>1</td>\n",
       "      <td>1</td>\n",
       "      <td>0</td>\n",
       "      <td>1</td>\n",
       "      <td>0</td>\n",
       "      <td>0</td>\n",
       "      <td>1</td>\n",
       "      <td>0</td>\n",
       "    </tr>\n",
       "    <tr>\n",
       "      <th>2</th>\n",
       "      <td>1</td>\n",
       "      <td>0.033300</td>\n",
       "      <td>0.480124</td>\n",
       "      <td>0.00</td>\n",
       "      <td>0.0</td>\n",
       "      <td>0.209791</td>\n",
       "      <td>0.610350</td>\n",
       "      <td>0.356453</td>\n",
       "      <td>0.517720</td>\n",
       "      <td>0.679051</td>\n",
       "      <td>...</td>\n",
       "      <td>0</td>\n",
       "      <td>0</td>\n",
       "      <td>0</td>\n",
       "      <td>0</td>\n",
       "      <td>0</td>\n",
       "      <td>0</td>\n",
       "      <td>0</td>\n",
       "      <td>0</td>\n",
       "      <td>0</td>\n",
       "      <td>0</td>\n",
       "    </tr>\n",
       "    <tr>\n",
       "      <th>3</th>\n",
       "      <td>1</td>\n",
       "      <td>0.000000</td>\n",
       "      <td>0.538825</td>\n",
       "      <td>0.00</td>\n",
       "      <td>0.5</td>\n",
       "      <td>0.196344</td>\n",
       "      <td>0.724230</td>\n",
       "      <td>0.235606</td>\n",
       "      <td>0.288764</td>\n",
       "      <td>0.805110</td>\n",
       "      <td>...</td>\n",
       "      <td>0</td>\n",
       "      <td>0</td>\n",
       "      <td>0</td>\n",
       "      <td>0</td>\n",
       "      <td>0</td>\n",
       "      <td>0</td>\n",
       "      <td>0</td>\n",
       "      <td>0</td>\n",
       "      <td>0</td>\n",
       "      <td>0</td>\n",
       "    </tr>\n",
       "    <tr>\n",
       "      <th>4</th>\n",
       "      <td>0</td>\n",
       "      <td>0.100000</td>\n",
       "      <td>0.517794</td>\n",
       "      <td>0.00</td>\n",
       "      <td>0.0</td>\n",
       "      <td>0.494734</td>\n",
       "      <td>0.781422</td>\n",
       "      <td>0.154361</td>\n",
       "      <td>0.303809</td>\n",
       "      <td>0.812646</td>\n",
       "      <td>...</td>\n",
       "      <td>0</td>\n",
       "      <td>0</td>\n",
       "      <td>0</td>\n",
       "      <td>0</td>\n",
       "      <td>0</td>\n",
       "      <td>0</td>\n",
       "      <td>0</td>\n",
       "      <td>0</td>\n",
       "      <td>0</td>\n",
       "      <td>0</td>\n",
       "    </tr>\n",
       "  </tbody>\n",
       "</table>\n",
       "<p>5 rows × 1777 columns</p>\n",
       "</div>"
      ],
      "text/plain": [
       "   Activity        D1        D2    D3   D4        D5        D6        D7   \n",
       "0         1  0.000000  0.497009  0.10  0.0  0.132956  0.678031  0.273166  \\\n",
       "1         1  0.366667  0.606291  0.05  0.0  0.111209  0.803455  0.106105   \n",
       "2         1  0.033300  0.480124  0.00  0.0  0.209791  0.610350  0.356453   \n",
       "3         1  0.000000  0.538825  0.00  0.5  0.196344  0.724230  0.235606   \n",
       "4         0  0.100000  0.517794  0.00  0.0  0.494734  0.781422  0.154361   \n",
       "\n",
       "         D8        D9  ...  D1767  D1768  D1769  D1770  D1771  D1772  D1773   \n",
       "0  0.585445  0.743663  ...      0      0      0      0      0      0      0  \\\n",
       "1  0.411754  0.836582  ...      1      1      1      1      0      1      0   \n",
       "2  0.517720  0.679051  ...      0      0      0      0      0      0      0   \n",
       "3  0.288764  0.805110  ...      0      0      0      0      0      0      0   \n",
       "4  0.303809  0.812646  ...      0      0      0      0      0      0      0   \n",
       "\n",
       "   D1774  D1775  D1776  \n",
       "0      0      0      0  \n",
       "1      0      1      0  \n",
       "2      0      0      0  \n",
       "3      0      0      0  \n",
       "4      0      0      0  \n",
       "\n",
       "[5 rows x 1777 columns]"
      ]
     },
     "execution_count": 3,
     "metadata": {},
     "output_type": "execute_result"
    }
   ],
   "source": [
    "data.head()"
   ]
  },
  {
   "cell_type": "code",
   "execution_count": 4,
   "metadata": {},
   "outputs": [
    {
     "data": {
      "text/plain": [
       "(3751, 1777)"
      ]
     },
     "execution_count": 4,
     "metadata": {},
     "output_type": "execute_result"
    }
   ],
   "source": [
    "# Посмотрим на размерность данных\n",
    "data.shape"
   ]
  },
  {
   "cell_type": "code",
   "execution_count": 5,
   "metadata": {},
   "outputs": [
    {
     "data": {
      "image/png": "[encoded data removed]",
      "text/plain": [
       "<Figure size 432x288 with 1 Axes>"
      ]
     },
     "metadata": {
      "needs_background": "light"
     },
     "output_type": "display_data"
    }
   ],
   "source": [
    "# Сбалансрованность классов\n",
    "sns.countplot(data=data, x='Activity');"
   ]
  },
  {
   "cell_type": "markdown",
   "metadata": {},
   "source": [
    "Классы сбалансированы"
   ]
  },
  {
   "cell_type": "code",
   "execution_count": 6,
   "metadata": {},
   "outputs": [],
   "source": [
    "# Зафиксируем random_state\n",
    "random_state = 42"
   ]
  },
  {
   "cell_type": "code",
   "execution_count": 7,
   "metadata": {},
   "outputs": [],
   "source": [
    "# Создаем матрицу наблюдений X и вектор ответов y\n",
    "X = data.drop(columns='Activity')\n",
    "y = data['Activity']\n",
    "\n",
    "# Разделяем выборки на тренировочную и тестовую\n",
    "X_train, X_test, y_train, y_test = train_test_split(X, y, stratify=y, test_size=0.2, random_state=random_state)"
   ]
  },
  {
   "cell_type": "markdown",
   "metadata": {},
   "source": [
    "### Логистическая регрессия"
   ]
  },
  {
   "cell_type": "code",
   "execution_count": 8,
   "metadata": {},
   "outputs": [
    {
     "name": "stdout",
     "output_type": "stream",
     "text": [
      "accuracy Test: 0.754\n",
      "f1_score Test: 0.777\n"
     ]
    }
   ],
   "source": [
    "# Значения гиперпараметров по умолчанию\n",
    "# Создаем объект класса логистической регрессии\n",
    "log_reg = linear_model.LogisticRegression(max_iter=1000)\n",
    "# Обучаем модель\n",
    "log_reg.fit(X_train, y_train)\n",
    "print(f'accuracy Test: {log_reg.score(X_test, y_test):.3f}')\n",
    "print(f'f1_score Test: {metrics.f1_score(y_test, log_reg.predict(X_test)):.3f}')\n"
   ]
  },
  {
   "cell_type": "markdown",
   "metadata": {},
   "source": [
    "**GridSearchCV**"
   ]
  },
  {
   "cell_type": "code",
   "execution_count": 9,
   "metadata": {},
   "outputs": [
    {
     "name": "stderr",
     "output_type": "stream",
     "text": [
      "/Library/Frameworks/Python.framework/Versions/3.9/lib/python3.9/site-packages/sklearn/linear_model/_sag.py:350: ConvergenceWarning: The max_iter was reached which means the coef_ did not converge\n",
      "  warnings.warn(\n",
      "/Library/Frameworks/Python.framework/Versions/3.9/lib/python3.9/site-packages/sklearn/linear_model/_sag.py:350: ConvergenceWarning: The max_iter was reached which means the coef_ did not converge\n",
      "  warnings.warn(\n"
     ]
    },
    {
     "name": "stdout",
     "output_type": "stream",
     "text": [
      "CPU times: user 1min 9s, sys: 993 ms, total: 1min 10s\n",
      "Wall time: 44min 26s\n",
      "accurasy Test: 0.754\n",
      "f1_score Test: 0.781\n"
     ]
    }
   ],
   "source": [
    "# Указываем гиперпараметры, которые будем тестировать\n",
    "param_grid = {'penalty': ['l1','l2'],# тип регуляризации\n",
    "              'solver': ['liblinear', 'saga'],# алгоритм оптимизации\n",
    "              'C': list(np.linspace(0.01, 1, 10, dtype=float))\n",
    "              }\n",
    "\n",
    "# Инициируем объект класса GridSearchCV\n",
    "grid_search = GridSearchCV(\n",
    "    estimator=linear_model.LogisticRegression(\n",
    "        random_state=random_state,\n",
    "        max_iter=3000\n",
    "    ),\n",
    "    param_grid=param_grid, #сетка параметров\n",
    "    cv=5, #количество фолдов для кросс-валидации\n",
    "    n_jobs=-1 #используются все доступные ядра для расчетов\n",
    ")\n",
    "\n",
    "%time grid_search.fit(X_train, y_train)\n",
    "print(f'accurasy Test: {grid_search.score(X_test, y_test):.3f}')\n",
    "print(f'f1_score Test: {metrics.f1_score(y_test, grid_search.predict(X_test)):.3f}')"
   ]
  },
  {
   "cell_type": "code",
   "execution_count": 10,
   "metadata": {},
   "outputs": [
    {
     "name": "stdout",
     "output_type": "stream",
     "text": [
      "Наилучшие значения гиперпараметров: {'C': 0.23, 'penalty': 'l1', 'solver': 'saga'}\n"
     ]
    }
   ],
   "source": [
    "print(f'Наилучшие значения гиперпараметров: {grid_search.best_params_}')"
   ]
  },
  {
   "cell_type": "markdown",
   "metadata": {},
   "source": [
    "метрика улучшилась"
   ]
  },
  {
   "cell_type": "markdown",
   "metadata": {},
   "source": [
    "**RandomizedSearchCV**"
   ]
  },
  {
   "cell_type": "code",
   "execution_count": 11,
   "metadata": {},
   "outputs": [
    {
     "name": "stderr",
     "output_type": "stream",
     "text": [
      "/Library/Frameworks/Python.framework/Versions/3.9/lib/python3.9/site-packages/sklearn/linear_model/_sag.py:350: ConvergenceWarning: The max_iter was reached which means the coef_ did not converge\n",
      "  warnings.warn(\n",
      "/Library/Frameworks/Python.framework/Versions/3.9/lib/python3.9/site-packages/sklearn/linear_model/_sag.py:350: ConvergenceWarning: The max_iter was reached which means the coef_ did not converge\n",
      "  warnings.warn(\n"
     ]
    },
    {
     "name": "stdout",
     "output_type": "stream",
     "text": [
      "CPU times: user 15.9 s, sys: 242 ms, total: 16.2 s\n",
      "Wall time: 14min 47s\n",
      "accurasy Test: 0.739\n",
      "f1_score Test: 0.768\n",
      "Наилучшие значения гиперпараметров: {'solver': 'saga', 'penalty': 'l1', 'C': 0.12}\n"
     ]
    }
   ],
   "source": [
    "# Указываем гиперпараметры, которые будем тестировать\n",
    "param_distributions = {'penalty': ['l1', 'l2'],# тип регуляризации\n",
    "              'solver': ['liblinear', 'saga'],# алгоритм оптимизации\n",
    "              'C': list(np.linspace(0.01, 1, 10, dtype=float))\n",
    "              }\n",
    "\n",
    "# Инициируем объект класса RandomizedSearchCV\n",
    "random_search = RandomizedSearchCV(\n",
    "    estimator=linear_model.LogisticRegression(\n",
    "        random_state=random_state,\n",
    "        max_iter=3000\n",
    "    ),\n",
    "    param_distributions=param_distributions, #сетка параметров\n",
    "    cv=5, #количество фолдов для кросс-валидации\n",
    "    n_iter=10,\n",
    "    n_jobs=-1 #используются все доступные ядра для расчетов\n",
    ")\n",
    "\n",
    "%time random_search.fit(X_train, y_train)\n",
    "print(f'accurasy Test: {random_search.score(X_test, y_test):.3f}')\n",
    "print(f'f1_score Test: {metrics.f1_score(y_test, random_search.predict(X_test)):.3f}')\n",
    "print(f'Наилучшие значения гиперпараметров: {random_search.best_params_}')"
   ]
  },
  {
   "cell_type": "markdown",
   "metadata": {},
   "source": [
    "значение метрики уменьшилось"
   ]
  },
  {
   "cell_type": "markdown",
   "metadata": {},
   "source": [
    "**Hyperopt**"
   ]
  },
  {
   "cell_type": "code",
   "execution_count": 12,
   "metadata": {},
   "outputs": [],
   "source": [
    "# задаем пространство поиска гиперпараметров\n",
    "space = {'penalty': hp.choice('penalty', ['l1', 'l2']),\n",
    "         'solver': hp.choice('solver', ['liblinear', 'saga']),\n",
    "         'C': hp.quniform('C', 0.01, 1, 0.1)\n",
    "}\n",
    "# Создаем функцию для минимизации\n",
    "def hyperopt_log_reg(params, cv=5, X=X_train, y=y_train, random_state=random_state):\n",
    "    # функция получает комбинацию гиперпараметров в params\n",
    "    params = {'penalty': params['penalty'],\n",
    "              'solver': params['solver'],\n",
    "              'C': params['C']\n",
    "    }\n",
    "    # Используем эту комбинацию для построения модели\n",
    "    model = linear_model.LogisticRegression(**params, max_iter=3000, random_state=random_state)\n",
    "    \n",
    "    # Обучаем модель с помощью кросс-валидации\n",
    "    score = cross_val_score(model, X, y, cv=cv, scoring='f1', n_jobs=-1).mean()\n",
    "    \n",
    "    return -score\n",
    " \n",
    "    "
   ]
  },
  {
   "cell_type": "code",
   "execution_count": 13,
   "metadata": {},
   "outputs": [
    {
     "name": "stdout",
     "output_type": "stream",
     "text": [
      "100%|██████████| 10/10 [10:37<00:00, 63.79s/trial, best loss: -0.7908077686739782]\n",
      "Наилучшие значения гиперпараметров: {'C': 0.2, 'penalty': 'l1', 'solver': 'saga'}\n",
      "CPU times: user 323 ms, sys: 243 ms, total: 566 ms\n",
      "Wall time: 10min 37s\n"
     ]
    }
   ],
   "source": [
    "%%time\n",
    "# Начинаем подбор гиперпараметров\n",
    "trials = Trials() # используется для логирования результатов\n",
    "\n",
    "best = fmin(hyperopt_log_reg, # наша функция\n",
    "            space=space, # пространство гиперпараметров\n",
    "            algo=tpe.suggest, #алгоритм оптимизации, установлен по умолчанию\n",
    "            max_evals=10, # максимальное количество итераций\n",
    "            trials=trials, #логирование результатов\n",
    "            rstate=np.random.default_rng(random_state)) #фиксируем для повторяемости результата\n",
    "\n",
    "\n",
    "print(f'Наилучшие значения гиперпараметров: {hyperopt.space_eval(space, best)}')"
   ]
  },
  {
   "cell_type": "code",
   "execution_count": 14,
   "metadata": {},
   "outputs": [
    {
     "data": {
      "text/plain": [
       "{'C': 0.2, 'penalty': 'l1', 'solver': 'saga'}"
      ]
     },
     "execution_count": 14,
     "metadata": {},
     "output_type": "execute_result"
    }
   ],
   "source": [
    "best_par = hyperopt.space_eval(space, best)\n",
    "best_par"
   ]
  },
  {
   "cell_type": "code",
   "execution_count": 15,
   "metadata": {},
   "outputs": [
    {
     "name": "stdout",
     "output_type": "stream",
     "text": [
      "accuracy Test: 0.754\n",
      "f1_score Test: 0.781\n"
     ]
    }
   ],
   "source": [
    "# Обучаем модель на подобранных параметрах\n",
    "model = linear_model.LogisticRegression(\n",
    "    random_state=random_state,\n",
    "    max_iter=3000,\n",
    "    C=best_par['C'],\n",
    "    penalty=best_par['penalty'],\n",
    "    solver=best_par['solver']\n",
    ")\n",
    "model.fit(X_train, y_train)\n",
    "# Делаем предсказание, считаем метрики\n",
    "y_test_pred = model.predict(X_test)\n",
    "print(f'accuracy Test: {model.score(X_test, y_test):.3f}')\n",
    "print(f'f1_score Test: {metrics.f1_score(y_test, y_test_pred):.3f}')\n"
   ]
  },
  {
   "cell_type": "markdown",
   "metadata": {},
   "source": [
    "Метрика улучшилась"
   ]
  },
  {
   "cell_type": "markdown",
   "metadata": {},
   "source": [
    "**Optuna**"
   ]
  },
  {
   "cell_type": "code",
   "execution_count": 16,
   "metadata": {},
   "outputs": [
    {
     "name": "stderr",
     "output_type": "stream",
     "text": [
      "\u001b[32m[I 2023-05-07 15:55:03,673]\u001b[0m A new study created in memory with name: LogisticRegression\u001b[0m\n",
      "\u001b[32m[I 2023-05-07 15:55:41,059]\u001b[0m Trial 0 finished with value: 0.7806068023495534 and parameters: {'penalty': 'l2', 'solver': 'saga', 'C': 0.21000000000000002}. Best is trial 0 with value: 0.7806068023495534.\u001b[0m\n",
      "\u001b[32m[I 2023-05-07 15:55:42,157]\u001b[0m Trial 1 finished with value: 0.7882790117391154 and parameters: {'penalty': 'l1', 'solver': 'liblinear', 'C': 0.21000000000000002}. Best is trial 1 with value: 0.7882790117391154.\u001b[0m\n",
      "\u001b[32m[I 2023-05-07 16:00:54,532]\u001b[0m Trial 2 finished with value: 0.7824342710055631 and parameters: {'penalty': 'l1', 'solver': 'saga', 'C': 0.51}. Best is trial 1 with value: 0.7882790117391154.\u001b[0m\n",
      "\u001b[32m[I 2023-05-07 16:01:37,097]\u001b[0m Trial 3 finished with value: 0.7832607763390209 and parameters: {'penalty': 'l1', 'solver': 'saga', 'C': 0.11}. Best is trial 1 with value: 0.7882790117391154.\u001b[0m\n",
      "\u001b[32m[I 2023-05-07 16:01:57,242]\u001b[0m Trial 4 finished with value: 0.7838901806138469 and parameters: {'penalty': 'l2', 'solver': 'saga', 'C': 0.01}. Best is trial 1 with value: 0.7882790117391154.\u001b[0m\n",
      "\u001b[32m[I 2023-05-07 16:01:58,478]\u001b[0m Trial 5 finished with value: 0.7882790117391154 and parameters: {'penalty': 'l1', 'solver': 'liblinear', 'C': 0.21000000000000002}. Best is trial 1 with value: 0.7882790117391154.\u001b[0m\n",
      "\u001b[32m[I 2023-05-07 16:02:00,053]\u001b[0m Trial 6 finished with value: 0.7782060543613076 and parameters: {'penalty': 'l2', 'solver': 'liblinear', 'C': 0.51}. Best is trial 1 with value: 0.7882790117391154.\u001b[0m\n",
      "\u001b[32m[I 2023-05-07 16:02:42,473]\u001b[0m Trial 7 finished with value: 0.7843940315008195 and parameters: {'penalty': 'l2', 'solver': 'saga', 'C': 0.11}. Best is trial 1 with value: 0.7882790117391154.\u001b[0m\n",
      "\u001b[32m[I 2023-05-07 16:02:43,977]\u001b[0m Trial 8 finished with value: 0.7806043210964148 and parameters: {'penalty': 'l2', 'solver': 'liblinear', 'C': 0.21000000000000002}. Best is trial 1 with value: 0.7882790117391154.\u001b[0m\n",
      "\u001b[32m[I 2023-05-07 16:09:04,015]\u001b[0m Trial 9 finished with value: 0.7824342710055631 and parameters: {'penalty': 'l1', 'solver': 'saga', 'C': 0.51}. Best is trial 1 with value: 0.7882790117391154.\u001b[0m\n",
      "\u001b[32m[I 2023-05-07 16:09:05,635]\u001b[0m Trial 10 finished with value: 0.7872406741929254 and parameters: {'penalty': 'l1', 'solver': 'liblinear', 'C': 0.31000000000000005}. Best is trial 1 with value: 0.7882790117391154.\u001b[0m\n",
      "\u001b[32m[I 2023-05-07 16:09:06,890]\u001b[0m Trial 11 finished with value: 0.7872406741929254 and parameters: {'penalty': 'l1', 'solver': 'liblinear', 'C': 0.31000000000000005}. Best is trial 1 with value: 0.7882790117391154.\u001b[0m\n",
      "\u001b[32m[I 2023-05-07 16:09:08,132]\u001b[0m Trial 12 finished with value: 0.7872406741929254 and parameters: {'penalty': 'l1', 'solver': 'liblinear', 'C': 0.31000000000000005}. Best is trial 1 with value: 0.7882790117391154.\u001b[0m\n",
      "\u001b[32m[I 2023-05-07 16:09:09,021]\u001b[0m Trial 13 finished with value: 0.784366296342415 and parameters: {'penalty': 'l1', 'solver': 'liblinear', 'C': 0.11}. Best is trial 1 with value: 0.7882790117391154.\u001b[0m\n",
      "\u001b[32m[I 2023-05-07 16:09:10,931]\u001b[0m Trial 14 finished with value: 0.7865438116329825 and parameters: {'penalty': 'l1', 'solver': 'liblinear', 'C': 0.41000000000000003}. Best is trial 1 with value: 0.7882790117391154.\u001b[0m\n",
      "\u001b[32m[I 2023-05-07 16:09:12,299]\u001b[0m Trial 15 finished with value: 0.7882790117391154 and parameters: {'penalty': 'l1', 'solver': 'liblinear', 'C': 0.21000000000000002}. Best is trial 1 with value: 0.7882790117391154.\u001b[0m\n",
      "\u001b[32m[I 2023-05-07 16:09:13,117]\u001b[0m Trial 16 finished with value: 0.7522687790497345 and parameters: {'penalty': 'l1', 'solver': 'liblinear', 'C': 0.01}. Best is trial 1 with value: 0.7882790117391154.\u001b[0m\n",
      "\u001b[32m[I 2023-05-07 16:09:15,041]\u001b[0m Trial 17 finished with value: 0.7865438116329825 and parameters: {'penalty': 'l1', 'solver': 'liblinear', 'C': 0.41000000000000003}. Best is trial 1 with value: 0.7882790117391154.\u001b[0m\n",
      "\u001b[32m[I 2023-05-07 16:09:15,957]\u001b[0m Trial 18 finished with value: 0.784366296342415 and parameters: {'penalty': 'l1', 'solver': 'liblinear', 'C': 0.11}. Best is trial 1 with value: 0.7882790117391154.\u001b[0m\n",
      "\u001b[32m[I 2023-05-07 16:09:17,485]\u001b[0m Trial 19 finished with value: 0.7882790117391154 and parameters: {'penalty': 'l1', 'solver': 'liblinear', 'C': 0.21000000000000002}. Best is trial 1 with value: 0.7882790117391154.\u001b[0m\n"
     ]
    },
    {
     "name": "stdout",
     "output_type": "stream",
     "text": [
      "Наилучшие значения гиперпараметров: {'penalty': 'l1', 'solver': 'liblinear', 'C': 0.21000000000000002}\n",
      "f1_score Train: 0.7882790117391154\n",
      "accuracy Test: 0.794\n",
      "f1_score Test: 0.8143712574850299\n",
      "CPU times: user 816 ms, sys: 669 ms, total: 1.49 s\n",
      "Wall time: 14min 13s\n"
     ]
    }
   ],
   "source": [
    "%%time\n",
    "# Настроим оптимизацию гиперпараметров для логистической регрессии\n",
    "def optuna_log_reg(trial):\n",
    "    # Задаем пространство поиска гиперпараметров\n",
    "    penalty = trial.suggest_categorical('penalty', ['l1', 'l2'])\n",
    "    solver = trial.suggest_categorical('solver', ['liblinear', 'saga'])\n",
    "    C = trial.suggest_float(name='C', low=0.01, high=0.51, step=0.1)\n",
    "    \n",
    "    # Создаем модель\n",
    "    model = linear_model.LogisticRegression(penalty=penalty,\n",
    "                                            solver=solver,\n",
    "                                            C=C, \n",
    "                                            random_state=random_state,\n",
    "                                            max_iter=3000)\n",
    "    # Обучаем модель с помощью кросс-валидации\n",
    "    score = cross_val_score(model, X, y, cv=5, scoring='f1', n_jobs=-1).mean()\n",
    "    \n",
    "    return score\n",
    "\n",
    "study = optuna.create_study(study_name='LogisticRegression', direction='maximize')\n",
    "# Ищем лучшую оптимизацию гиперпараметров\n",
    "study.optimize(optuna_log_reg, n_trials=20)\n",
    "\n",
    "# Выводим результаты на обучающей выборке\n",
    "print(f'Наилучшие значения гиперпараметров: {study.best_params}')\n",
    "print(f'f1_score Train: {study.best_value}')\n",
    "\n",
    "#  Обучим модель с полученными параметрами\n",
    "model = linear_model.LogisticRegression(**study.best_params, max_iter=3000, random_state=random_state)\n",
    "model.fit(X_test, y_test)\n",
    "y_test_pred = model.predict(X_test)\n",
    "print(f'accuracy Test: {model.score(X_test, y_test):.3f}')\n",
    "print(f'f1_score Test: {metrics.f1_score(y_test, y_test_pred)}')"
   ]
  },
  {
   "cell_type": "markdown",
   "metadata": {},
   "source": [
    "метрика улучшилась"
   ]
  },
  {
   "cell_type": "code",
   "execution_count": 17,
   "metadata": {},
   "outputs": [
    {
     "data": {
      "application/vnd.plotly.v1+json": {
       "config": {
        "plotlyServerURL": "https://plot.ly"
       },
       "data": [
        {
         "mode": "markers",
         "name": "f1_score",
         "type": "scatter",
         "x": [
          0,
          1,
          2,
          3,
          4,
          5,
          6,
          7,
          8,
          9,
          10,
          11,
          12,
          13,
          14,
          15,
          16,
          17,
          18,
          19
         ],
         "y": [
          0.7806068023495534,
          0.7882790117391154,
          0.7824342710055631,
          0.7832607763390209,
          0.7838901806138469,
          0.7882790117391154,
          0.7782060543613076,
          0.7843940315008195,
          0.7806043210964148,
          0.7824342710055631,
          0.7872406741929254,
          0.7872406741929254,
          0.7872406741929254,
          0.784366296342415,
          0.7865438116329825,
          0.7882790117391154,
          0.7522687790497345,
          0.7865438116329825,
          0.784366296342415,
          0.7882790117391154
         ]
        },
        {
         "name": "Best Value",
         "type": "scatter",
         "x": [
          0,
          1,
          2,
          3,
          4,
          5,
          6,
          7,
          8,
          9,
          10,
          11,
          12,
          13,
          14,
          15,
          16,
          17,
          18,
          19
         ],
         "y": [
          0.7806068023495534,
          0.7882790117391154,
          0.7882790117391154,
          0.7882790117391154,
          0.7882790117391154,
          0.7882790117391154,
          0.7882790117391154,
          0.7882790117391154,
          0.7882790117391154,
          0.7882790117391154,
          0.7882790117391154,
          0.7882790117391154,
          0.7882790117391154,
          0.7882790117391154,
          0.7882790117391154,
          0.7882790117391154,
          0.7882790117391154,
          0.7882790117391154,
          0.7882790117391154,
          0.7882790117391154
         ]
        }
       ],
       "layout": {
        "template": {
         "data": {
          "bar": [
           {
            "error_x": {
             "color": "#2a3f5f"
            },
            "error_y": {
             "color": "#2a3f5f"
            },
            "marker": {
             "line": {
              "color": "#E5ECF6",
              "width": 0.5
             },
             "pattern": {
              "fillmode": "overlay",
              "size": 10,
              "solidity": 0.2
             }
            },
            "type": "bar"
           }
          ],
          "barpolar": [
           {
            "marker": {
             "line": {
              "color": "#E5ECF6",
              "width": 0.5
             },
             "pattern": {
              "fillmode": "overlay",
              "size": 10,
              "solidity": 0.2
             }
            },
            "type": "barpolar"
           }
          ],
          "carpet": [
           {
            "aaxis": {
             "endlinecolor": "#2a3f5f",
             "gridcolor": "white",
             "linecolor": "white",
             "minorgridcolor": "white",
             "startlinecolor": "#2a3f5f"
            },
            "baxis": {
             "endlinecolor": "#2a3f5f",
             "gridcolor": "white",
             "linecolor": "white",
             "minorgridcolor": "white",
             "startlinecolor": "#2a3f5f"
            },
            "type": "carpet"
           }
          ],
          "choropleth": [
           {
            "colorbar": {
             "outlinewidth": 0,
             "ticks": ""
            },
            "type": "choropleth"
           }
          ],
          "contour": [
           {
            "colorbar": {
             "outlinewidth": 0,
             "ticks": ""
            },
            "colorscale": [
             [
              0,
              "#0d0887"
             ],
             [
              0.1111111111111111,
              "#46039f"
             ],
             [
              0.2222222222222222,
              "#7201a8"
             ],
             [
              0.3333333333333333,
              "#9c179e"
             ],
             [
              0.4444444444444444,
              "#bd3786"
             ],
             [
              0.5555555555555556,
              "#d8576b"
             ],
             [
              0.6666666666666666,
              "#ed7953"
             ],
             [
              0.7777777777777778,
              "#fb9f3a"
             ],
             [
              0.8888888888888888,
              "#fdca26"
             ],
             [
              1,
              "#f0f921"
             ]
            ],
            "type": "contour"
           }
          ],
          "contourcarpet": [
           {
            "colorbar": {
             "outlinewidth": 0,
             "ticks": ""
            },
            "type": "contourcarpet"
           }
          ],
          "heatmap": [
           {
            "colorbar": {
             "outlinewidth": 0,
             "ticks": ""
            },
            "colorscale": [
             [
              0,
              "#0d0887"
             ],
             [
              0.1111111111111111,
              "#46039f"
             ],
             [
              0.2222222222222222,
              "#7201a8"
             ],
             [
              0.3333333333333333,
              "#9c179e"
             ],
             [
              0.4444444444444444,
              "#bd3786"
             ],
             [
              0.5555555555555556,
              "#d8576b"
             ],
             [
              0.6666666666666666,
              "#ed7953"
             ],
             [
              0.7777777777777778,
              "#fb9f3a"
             ],
             [
              0.8888888888888888,
              "#fdca26"
             ],
             [
              1,
              "#f0f921"
             ]
            ],
            "type": "heatmap"
           }
          ],
          "heatmapgl": [
           {
            "colorbar": {
             "outlinewidth": 0,
             "ticks": ""
            },
            "colorscale": [
             [
              0,
              "#0d0887"
             ],
             [
              0.1111111111111111,
              "#46039f"
             ],
             [
              0.2222222222222222,
              "#7201a8"
             ],
             [
              0.3333333333333333,
              "#9c179e"
             ],
             [
              0.4444444444444444,
              "#bd3786"
             ],
             [
              0.5555555555555556,
              "#d8576b"
             ],
             [
              0.6666666666666666,
              "#ed7953"
             ],
             [
              0.7777777777777778,
              "#fb9f3a"
             ],
             [
              0.8888888888888888,
              "#fdca26"
             ],
             [
              1,
              "#f0f921"
             ]
            ],
            "type": "heatmapgl"
           }
          ],
          "histogram": [
           {
            "marker": {
             "pattern": {
              "fillmode": "overlay",
              "size": 10,
              "solidity": 0.2
             }
            },
            "type": "histogram"
           }
          ],
          "histogram2d": [
           {
            "colorbar": {
             "outlinewidth": 0,
             "ticks": ""
            },
            "colorscale": [
             [
              0,
              "#0d0887"
             ],
             [
              0.1111111111111111,
              "#46039f"
             ],
             [
              0.2222222222222222,
              "#7201a8"
             ],
             [
              0.3333333333333333,
              "#9c179e"
             ],
             [
              0.4444444444444444,
              "#bd3786"
             ],
             [
              0.5555555555555556,
              "#d8576b"
             ],
             [
              0.6666666666666666,
              "#ed7953"
             ],
             [
              0.7777777777777778,
              "#fb9f3a"
             ],
             [
              0.8888888888888888,
              "#fdca26"
             ],
             [
              1,
              "#f0f921"
             ]
            ],
            "type": "histogram2d"
           }
          ],
          "histogram2dcontour": [
           {
            "colorbar": {
             "outlinewidth": 0,
             "ticks": ""
            },
            "colorscale": [
             [
              0,
              "#0d0887"
             ],
             [
              0.1111111111111111,
              "#46039f"
             ],
             [
              0.2222222222222222,
              "#7201a8"
             ],
             [
              0.3333333333333333,
              "#9c179e"
             ],
             [
              0.4444444444444444,
              "#bd3786"
             ],
             [
              0.5555555555555556,
              "#d8576b"
             ],
             [
              0.6666666666666666,
              "#ed7953"
             ],
             [
              0.7777777777777778,
              "#fb9f3a"
             ],
             [
              0.8888888888888888,
              "#fdca26"
             ],
             [
              1,
              "#f0f921"
             ]
            ],
            "type": "histogram2dcontour"
           }
          ],
          "mesh3d": [
           {
            "colorbar": {
             "outlinewidth": 0,
             "ticks": ""
            },
            "type": "mesh3d"
           }
          ],
          "parcoords": [
           {
            "line": {
             "colorbar": {
              "outlinewidth": 0,
              "ticks": ""
             }
            },
            "type": "parcoords"
           }
          ],
          "pie": [
           {
            "automargin": true,
            "type": "pie"
           }
          ],
          "scatter": [
           {
            "fillpattern": {
             "fillmode": "overlay",
             "size": 10,
             "solidity": 0.2
            },
            "type": "scatter"
           }
          ],
          "scatter3d": [
           {
            "line": {
             "colorbar": {
              "outlinewidth": 0,
              "ticks": ""
             }
            },
            "marker": {
             "colorbar": {
              "outlinewidth": 0,
              "ticks": ""
             }
            },
            "type": "scatter3d"
           }
          ],
          "scattercarpet": [
           {
            "marker": {
             "colorbar": {
              "outlinewidth": 0,
              "ticks": ""
             }
            },
            "type": "scattercarpet"
           }
          ],
          "scattergeo": [
           {
            "marker": {
             "colorbar": {
              "outlinewidth": 0,
              "ticks": ""
             }
            },
            "type": "scattergeo"
           }
          ],
          "scattergl": [
           {
            "marker": {
             "colorbar": {
              "outlinewidth": 0,
              "ticks": ""
             }
            },
            "type": "scattergl"
           }
          ],
          "scattermapbox": [
           {
            "marker": {
             "colorbar": {
              "outlinewidth": 0,
              "ticks": ""
             }
            },
            "type": "scattermapbox"
           }
          ],
          "scatterpolar": [
           {
            "marker": {
             "colorbar": {
              "outlinewidth": 0,
              "ticks": ""
             }
            },
            "type": "scatterpolar"
           }
          ],
          "scatterpolargl": [
           {
            "marker": {
             "colorbar": {
              "outlinewidth": 0,
              "ticks": ""
             }
            },
            "type": "scatterpolargl"
           }
          ],
          "scatterternary": [
           {
            "marker": {
             "colorbar": {
              "outlinewidth": 0,
              "ticks": ""
             }
            },
            "type": "scatterternary"
           }
          ],
          "surface": [
           {
            "colorbar": {
             "outlinewidth": 0,
             "ticks": ""
            },
            "colorscale": [
             [
              0,
              "#0d0887"
             ],
             [
              0.1111111111111111,
              "#46039f"
             ],
             [
              0.2222222222222222,
              "#7201a8"
             ],
             [
              0.3333333333333333,
              "#9c179e"
             ],
             [
              0.4444444444444444,
              "#bd3786"
             ],
             [
              0.5555555555555556,
              "#d8576b"
             ],
             [
              0.6666666666666666,
              "#ed7953"
             ],
             [
              0.7777777777777778,
              "#fb9f3a"
             ],
             [
              0.8888888888888888,
              "#fdca26"
             ],
             [
              1,
              "#f0f921"
             ]
            ],
            "type": "surface"
           }
          ],
          "table": [
           {
            "cells": {
             "fill": {
              "color": "#EBF0F8"
             },
             "line": {
              "color": "white"
             }
            },
            "header": {
             "fill": {
              "color": "#C8D4E3"
             },
             "line": {
              "color": "white"
             }
            },
            "type": "table"
           }
          ]
         },
         "layout": {
          "annotationdefaults": {
           "arrowcolor": "#2a3f5f",
           "arrowhead": 0,
           "arrowwidth": 1
          },
          "autotypenumbers": "strict",
          "coloraxis": {
           "colorbar": {
            "outlinewidth": 0,
            "ticks": ""
           }
          },
          "colorscale": {
           "diverging": [
            [
             0,
             "#8e0152"
            ],
            [
             0.1,
             "#c51b7d"
            ],
            [
             0.2,
             "#de77ae"
            ],
            [
             0.3,
             "#f1b6da"
            ],
            [
             0.4,
             "#fde0ef"
            ],
            [
             0.5,
             "#f7f7f7"
            ],
            [
             0.6,
             "#e6f5d0"
            ],
            [
             0.7,
             "#b8e186"
            ],
            [
             0.8,
             "#7fbc41"
            ],
            [
             0.9,
             "#4d9221"
            ],
            [
             1,
             "#276419"
            ]
           ],
           "sequential": [
            [
             0,
             "#0d0887"
            ],
            [
             0.1111111111111111,
             "#46039f"
            ],
            [
             0.2222222222222222,
             "#7201a8"
            ],
            [
             0.3333333333333333,
             "#9c179e"
            ],
            [
             0.4444444444444444,
             "#bd3786"
            ],
            [
             0.5555555555555556,
             "#d8576b"
            ],
            [
             0.6666666666666666,
             "#ed7953"
            ],
            [
             0.7777777777777778,
             "#fb9f3a"
            ],
            [
             0.8888888888888888,
             "#fdca26"
            ],
            [
             1,
             "#f0f921"
            ]
           ],
           "sequentialminus": [
            [
             0,
             "#0d0887"
            ],
            [
             0.1111111111111111,
             "#46039f"
            ],
            [
             0.2222222222222222,
             "#7201a8"
            ],
            [
             0.3333333333333333,
             "#9c179e"
            ],
            [
             0.4444444444444444,
             "#bd3786"
            ],
            [
             0.5555555555555556,
             "#d8576b"
            ],
            [
             0.6666666666666666,
             "#ed7953"
            ],
            [
             0.7777777777777778,
             "#fb9f3a"
            ],
            [
             0.8888888888888888,
             "#fdca26"
            ],
            [
             1,
             "#f0f921"
            ]
           ]
          },
          "colorway": [
           "#636efa",
           "#EF553B",
           "#00cc96",
           "#ab63fa",
           "#FFA15A",
           "#19d3f3",
           "#FF6692",
           "#B6E880",
           "#FF97FF",
           "#FECB52"
          ],
          "font": {
           "color": "#2a3f5f"
          },
          "geo": {
           "bgcolor": "white",
           "lakecolor": "white",
           "landcolor": "#E5ECF6",
           "showlakes": true,
           "showland": true,
           "subunitcolor": "white"
          },
          "hoverlabel": {
           "align": "left"
          },
          "hovermode": "closest",
          "mapbox": {
           "style": "light"
          },
          "paper_bgcolor": "white",
          "plot_bgcolor": "#E5ECF6",
          "polar": {
           "angularaxis": {
            "gridcolor": "white",
            "linecolor": "white",
            "ticks": ""
           },
           "bgcolor": "#E5ECF6",
           "radialaxis": {
            "gridcolor": "white",
            "linecolor": "white",
            "ticks": ""
           }
          },
          "scene": {
           "xaxis": {
            "backgroundcolor": "#E5ECF6",
            "gridcolor": "white",
            "gridwidth": 2,
            "linecolor": "white",
            "showbackground": true,
            "ticks": "",
            "zerolinecolor": "white"
           },
           "yaxis": {
            "backgroundcolor": "#E5ECF6",
            "gridcolor": "white",
            "gridwidth": 2,
            "linecolor": "white",
            "showbackground": true,
            "ticks": "",
            "zerolinecolor": "white"
           },
           "zaxis": {
            "backgroundcolor": "#E5ECF6",
            "gridcolor": "white",
            "gridwidth": 2,
            "linecolor": "white",
            "showbackground": true,
            "ticks": "",
            "zerolinecolor": "white"
           }
          },
          "shapedefaults": {
           "line": {
            "color": "#2a3f5f"
           }
          },
          "ternary": {
           "aaxis": {
            "gridcolor": "white",
            "linecolor": "white",
            "ticks": ""
           },
           "baxis": {
            "gridcolor": "white",
            "linecolor": "white",
            "ticks": ""
           },
           "bgcolor": "#E5ECF6",
           "caxis": {
            "gridcolor": "white",
            "linecolor": "white",
            "ticks": ""
           }
          },
          "title": {
           "x": 0.05
          },
          "xaxis": {
           "automargin": true,
           "gridcolor": "white",
           "linecolor": "white",
           "ticks": "",
           "title": {
            "standoff": 15
           },
           "zerolinecolor": "white",
           "zerolinewidth": 2
          },
          "yaxis": {
           "automargin": true,
           "gridcolor": "white",
           "linecolor": "white",
           "ticks": "",
           "title": {
            "standoff": 15
           },
           "zerolinecolor": "white",
           "zerolinewidth": 2
          }
         }
        },
        "title": {
         "text": "Optimization History Plot"
        },
        "xaxis": {
         "title": {
          "text": "Trial"
         }
        },
        "yaxis": {
         "title": {
          "text": "f1_score"
         }
        }
       }
      }
     },
     "metadata": {},
     "output_type": "display_data"
    }
   ],
   "source": [
    "optuna.visualization.plot_optimization_history(study, target_name='f1_score')"
   ]
  },
  {
   "cell_type": "code",
   "execution_count": 18,
   "metadata": {},
   "outputs": [
    {
     "data": {
      "application/vnd.plotly.v1+json": {
       "config": {
        "plotlyServerURL": "https://plot.ly"
       },
       "data": [
        {
         "cliponaxis": false,
         "hovertemplate": [
          "solver (CategoricalDistribution): 0.08749456102717888<extra></extra>",
          "penalty (CategoricalDistribution): 0.2568116700382871<extra></extra>",
          "C (FloatDistribution): 0.655693768934534<extra></extra>"
         ],
         "marker": {
          "color": "rgb(66,146,198)"
         },
         "orientation": "h",
         "text": [
          "0.09",
          "0.26",
          "0.66"
         ],
         "textposition": "outside",
         "type": "bar",
         "x": [
          0.08749456102717888,
          0.2568116700382871,
          0.655693768934534
         ],
         "y": [
          "solver",
          "penalty",
          "C"
         ]
        }
       ],
       "layout": {
        "showlegend": false,
        "template": {
         "data": {
          "bar": [
           {
            "error_x": {
             "color": "#2a3f5f"
            },
            "error_y": {
             "color": "#2a3f5f"
            },
            "marker": {
             "line": {
              "color": "#E5ECF6",
              "width": 0.5
             },
             "pattern": {
              "fillmode": "overlay",
              "size": 10,
              "solidity": 0.2
             }
            },
            "type": "bar"
           }
          ],
          "barpolar": [
           {
            "marker": {
             "line": {
              "color": "#E5ECF6",
              "width": 0.5
             },
             "pattern": {
              "fillmode": "overlay",
              "size": 10,
              "solidity": 0.2
             }
            },
            "type": "barpolar"
           }
          ],
          "carpet": [
           {
            "aaxis": {
             "endlinecolor": "#2a3f5f",
             "gridcolor": "white",
             "linecolor": "white",
             "minorgridcolor": "white",
             "startlinecolor": "#2a3f5f"
            },
            "baxis": {
             "endlinecolor": "#2a3f5f",
             "gridcolor": "white",
             "linecolor": "white",
             "minorgridcolor": "white",
             "startlinecolor": "#2a3f5f"
            },
            "type": "carpet"
           }
          ],
          "choropleth": [
           {
            "colorbar": {
             "outlinewidth": 0,
             "ticks": ""
            },
            "type": "choropleth"
           }
          ],
          "contour": [
           {
            "colorbar": {
             "outlinewidth": 0,
             "ticks": ""
            },
            "colorscale": [
             [
              0,
              "#0d0887"
             ],
             [
              0.1111111111111111,
              "#46039f"
             ],
             [
              0.2222222222222222,
              "#7201a8"
             ],
             [
              0.3333333333333333,
              "#9c179e"
             ],
             [
              0.4444444444444444,
              "#bd3786"
             ],
             [
              0.5555555555555556,
              "#d8576b"
             ],
             [
              0.6666666666666666,
              "#ed7953"
             ],
             [
              0.7777777777777778,
              "#fb9f3a"
             ],
             [
              0.8888888888888888,
              "#fdca26"
             ],
             [
              1,
              "#f0f921"
             ]
            ],
            "type": "contour"
           }
          ],
          "contourcarpet": [
           {
            "colorbar": {
             "outlinewidth": 0,
             "ticks": ""
            },
            "type": "contourcarpet"
           }
          ],
          "heatmap": [
           {
            "colorbar": {
             "outlinewidth": 0,
             "ticks": ""
            },
            "colorscale": [
             [
              0,
              "#0d0887"
             ],
             [
              0.1111111111111111,
              "#46039f"
             ],
             [
              0.2222222222222222,
              "#7201a8"
             ],
             [
              0.3333333333333333,
              "#9c179e"
             ],
             [
              0.4444444444444444,
              "#bd3786"
             ],
             [
              0.5555555555555556,
              "#d8576b"
             ],
             [
              0.6666666666666666,
              "#ed7953"
             ],
             [
              0.7777777777777778,
              "#fb9f3a"
             ],
             [
              0.8888888888888888,
              "#fdca26"
             ],
             [
              1,
              "#f0f921"
             ]
            ],
            "type": "heatmap"
           }
          ],
          "heatmapgl": [
           {
            "colorbar": {
             "outlinewidth": 0,
             "ticks": ""
            },
            "colorscale": [
             [
              0,
              "#0d0887"
             ],
             [
              0.1111111111111111,
              "#46039f"
             ],
             [
              0.2222222222222222,
              "#7201a8"
             ],
             [
              0.3333333333333333,
              "#9c179e"
             ],
             [
              0.4444444444444444,
              "#bd3786"
             ],
             [
              0.5555555555555556,
              "#d8576b"
             ],
             [
              0.6666666666666666,
              "#ed7953"
             ],
             [
              0.7777777777777778,
              "#fb9f3a"
             ],
             [
              0.8888888888888888,
              "#fdca26"
             ],
             [
              1,
              "#f0f921"
             ]
            ],
            "type": "heatmapgl"
           }
          ],
          "histogram": [
           {
            "marker": {
             "pattern": {
              "fillmode": "overlay",
              "size": 10,
              "solidity": 0.2
             }
            },
            "type": "histogram"
           }
          ],
          "histogram2d": [
           {
            "colorbar": {
             "outlinewidth": 0,
             "ticks": ""
            },
            "colorscale": [
             [
              0,
              "#0d0887"
             ],
             [
              0.1111111111111111,
              "#46039f"
             ],
             [
              0.2222222222222222,
              "#7201a8"
             ],
             [
              0.3333333333333333,
              "#9c179e"
             ],
             [
              0.4444444444444444,
              "#bd3786"
             ],
             [
              0.5555555555555556,
              "#d8576b"
             ],
             [
              0.6666666666666666,
              "#ed7953"
             ],
             [
              0.7777777777777778,
              "#fb9f3a"
             ],
             [
              0.8888888888888888,
              "#fdca26"
             ],
             [
              1,
              "#f0f921"
             ]
            ],
            "type": "histogram2d"
           }
          ],
          "histogram2dcontour": [
           {
            "colorbar": {
             "outlinewidth": 0,
             "ticks": ""
            },
            "colorscale": [
             [
              0,
              "#0d0887"
             ],
             [
              0.1111111111111111,
              "#46039f"
             ],
             [
              0.2222222222222222,
              "#7201a8"
             ],
             [
              0.3333333333333333,
              "#9c179e"
             ],
             [
              0.4444444444444444,
              "#bd3786"
             ],
             [
              0.5555555555555556,
              "#d8576b"
             ],
             [
              0.6666666666666666,
              "#ed7953"
             ],
             [
              0.7777777777777778,
              "#fb9f3a"
             ],
             [
              0.8888888888888888,
              "#fdca26"
             ],
             [
              1,
              "#f0f921"
             ]
            ],
            "type": "histogram2dcontour"
           }
          ],
          "mesh3d": [
           {
            "colorbar": {
             "outlinewidth": 0,
             "ticks": ""
            },
            "type": "mesh3d"
           }
          ],
          "parcoords": [
           {
            "line": {
             "colorbar": {
              "outlinewidth": 0,
              "ticks": ""
             }
            },
            "type": "parcoords"
           }
          ],
          "pie": [
           {
            "automargin": true,
            "type": "pie"
           }
          ],
          "scatter": [
           {
            "fillpattern": {
             "fillmode": "overlay",
             "size": 10,
             "solidity": 0.2
            },
            "type": "scatter"
           }
          ],
          "scatter3d": [
           {
            "line": {
             "colorbar": {
              "outlinewidth": 0,
              "ticks": ""
             }
            },
            "marker": {
             "colorbar": {
              "outlinewidth": 0,
              "ticks": ""
             }
            },
            "type": "scatter3d"
           }
          ],
          "scattercarpet": [
           {
            "marker": {
             "colorbar": {
              "outlinewidth": 0,
              "ticks": ""
             }
            },
            "type": "scattercarpet"
           }
          ],
          "scattergeo": [
           {
            "marker": {
             "colorbar": {
              "outlinewidth": 0,
              "ticks": ""
             }
            },
            "type": "scattergeo"
           }
          ],
          "scattergl": [
           {
            "marker": {
             "colorbar": {
              "outlinewidth": 0,
              "ticks": ""
             }
            },
            "type": "scattergl"
           }
          ],
          "scattermapbox": [
           {
            "marker": {
             "colorbar": {
              "outlinewidth": 0,
              "ticks": ""
             }
            },
            "type": "scattermapbox"
           }
          ],
          "scatterpolar": [
           {
            "marker": {
             "colorbar": {
              "outlinewidth": 0,
              "ticks": ""
             }
            },
            "type": "scatterpolar"
           }
          ],
          "scatterpolargl": [
           {
            "marker": {
             "colorbar": {
              "outlinewidth": 0,
              "ticks": ""
             }
            },
            "type": "scatterpolargl"
           }
          ],
          "scatterternary": [
           {
            "marker": {
             "colorbar": {
              "outlinewidth": 0,
              "ticks": ""
             }
            },
            "type": "scatterternary"
           }
          ],
          "surface": [
           {
            "colorbar": {
             "outlinewidth": 0,
             "ticks": ""
            },
            "colorscale": [
             [
              0,
              "#0d0887"
             ],
             [
              0.1111111111111111,
              "#46039f"
             ],
             [
              0.2222222222222222,
              "#7201a8"
             ],
             [
              0.3333333333333333,
              "#9c179e"
             ],
             [
              0.4444444444444444,
              "#bd3786"
             ],
             [
              0.5555555555555556,
              "#d8576b"
             ],
             [
              0.6666666666666666,
              "#ed7953"
             ],
             [
              0.7777777777777778,
              "#fb9f3a"
             ],
             [
              0.8888888888888888,
              "#fdca26"
             ],
             [
              1,
              "#f0f921"
             ]
            ],
            "type": "surface"
           }
          ],
          "table": [
           {
            "cells": {
             "fill": {
              "color": "#EBF0F8"
             },
             "line": {
              "color": "white"
             }
            },
            "header": {
             "fill": {
              "color": "#C8D4E3"
             },
             "line": {
              "color": "white"
             }
            },
            "type": "table"
           }
          ]
         },
         "layout": {
          "annotationdefaults": {
           "arrowcolor": "#2a3f5f",
           "arrowhead": 0,
           "arrowwidth": 1
          },
          "autotypenumbers": "strict",
          "coloraxis": {
           "colorbar": {
            "outlinewidth": 0,
            "ticks": ""
           }
          },
          "colorscale": {
           "diverging": [
            [
             0,
             "#8e0152"
            ],
            [
             0.1,
             "#c51b7d"
            ],
            [
             0.2,
             "#de77ae"
            ],
            [
             0.3,
             "#f1b6da"
            ],
            [
             0.4,
             "#fde0ef"
            ],
            [
             0.5,
             "#f7f7f7"
            ],
            [
             0.6,
             "#e6f5d0"
            ],
            [
             0.7,
             "#b8e186"
            ],
            [
             0.8,
             "#7fbc41"
            ],
            [
             0.9,
             "#4d9221"
            ],
            [
             1,
             "#276419"
            ]
           ],
           "sequential": [
            [
             0,
             "#0d0887"
            ],
            [
             0.1111111111111111,
             "#46039f"
            ],
            [
             0.2222222222222222,
             "#7201a8"
            ],
            [
             0.3333333333333333,
             "#9c179e"
            ],
            [
             0.4444444444444444,
             "#bd3786"
            ],
            [
             0.5555555555555556,
             "#d8576b"
            ],
            [
             0.6666666666666666,
             "#ed7953"
            ],
            [
             0.7777777777777778,
             "#fb9f3a"
            ],
            [
             0.8888888888888888,
             "#fdca26"
            ],
            [
             1,
             "#f0f921"
            ]
           ],
           "sequentialminus": [
            [
             0,
             "#0d0887"
            ],
            [
             0.1111111111111111,
             "#46039f"
            ],
            [
             0.2222222222222222,
             "#7201a8"
            ],
            [
             0.3333333333333333,
             "#9c179e"
            ],
            [
             0.4444444444444444,
             "#bd3786"
            ],
            [
             0.5555555555555556,
             "#d8576b"
            ],
            [
             0.6666666666666666,
             "#ed7953"
            ],
            [
             0.7777777777777778,
             "#fb9f3a"
            ],
            [
             0.8888888888888888,
             "#fdca26"
            ],
            [
             1,
             "#f0f921"
            ]
           ]
          },
          "colorway": [
           "#636efa",
           "#EF553B",
           "#00cc96",
           "#ab63fa",
           "#FFA15A",
           "#19d3f3",
           "#FF6692",
           "#B6E880",
           "#FF97FF",
           "#FECB52"
          ],
          "font": {
           "color": "#2a3f5f"
          },
          "geo": {
           "bgcolor": "white",
           "lakecolor": "white",
           "landcolor": "#E5ECF6",
           "showlakes": true,
           "showland": true,
           "subunitcolor": "white"
          },
          "hoverlabel": {
           "align": "left"
          },
          "hovermode": "closest",
          "mapbox": {
           "style": "light"
          },
          "paper_bgcolor": "white",
          "plot_bgcolor": "#E5ECF6",
          "polar": {
           "angularaxis": {
            "gridcolor": "white",
            "linecolor": "white",
            "ticks": ""
           },
           "bgcolor": "#E5ECF6",
           "radialaxis": {
            "gridcolor": "white",
            "linecolor": "white",
            "ticks": ""
           }
          },
          "scene": {
           "xaxis": {
            "backgroundcolor": "#E5ECF6",
            "gridcolor": "white",
            "gridwidth": 2,
            "linecolor": "white",
            "showbackground": true,
            "ticks": "",
            "zerolinecolor": "white"
           },
           "yaxis": {
            "backgroundcolor": "#E5ECF6",
            "gridcolor": "white",
            "gridwidth": 2,
            "linecolor": "white",
            "showbackground": true,
            "ticks": "",
            "zerolinecolor": "white"
           },
           "zaxis": {
            "backgroundcolor": "#E5ECF6",
            "gridcolor": "white",
            "gridwidth": 2,
            "linecolor": "white",
            "showbackground": true,
            "ticks": "",
            "zerolinecolor": "white"
           }
          },
          "shapedefaults": {
           "line": {
            "color": "#2a3f5f"
           }
          },
          "ternary": {
           "aaxis": {
            "gridcolor": "white",
            "linecolor": "white",
            "ticks": ""
           },
           "baxis": {
            "gridcolor": "white",
            "linecolor": "white",
            "ticks": ""
           },
           "bgcolor": "#E5ECF6",
           "caxis": {
            "gridcolor": "white",
            "linecolor": "white",
            "ticks": ""
           }
          },
          "title": {
           "x": 0.05
          },
          "xaxis": {
           "automargin": true,
           "gridcolor": "white",
           "linecolor": "white",
           "ticks": "",
           "title": {
            "standoff": 15
           },
           "zerolinecolor": "white",
           "zerolinewidth": 2
          },
          "yaxis": {
           "automargin": true,
           "gridcolor": "white",
           "linecolor": "white",
           "ticks": "",
           "title": {
            "standoff": 15
           },
           "zerolinecolor": "white",
           "zerolinewidth": 2
          }
         }
        },
        "title": {
         "text": "Hyperparameter Importances"
        },
        "xaxis": {
         "title": {
          "text": "Importance for f1_score"
         }
        },
        "yaxis": {
         "title": {
          "text": "Hyperparameter"
         }
        }
       }
      }
     },
     "metadata": {},
     "output_type": "display_data"
    }
   ],
   "source": [
    "optuna.visualization.plot_param_importances(study, target_name='f1_score')"
   ]
  },
  {
   "cell_type": "markdown",
   "metadata": {},
   "source": [
    "### RandomForest"
   ]
  },
  {
   "cell_type": "markdown",
   "metadata": {},
   "source": [
    "**Baseline**"
   ]
  },
  {
   "cell_type": "code",
   "execution_count": 21,
   "metadata": {},
   "outputs": [
    {
     "name": "stdout",
     "output_type": "stream",
     "text": [
      "f1_score Train: 1.000\n",
      "accuracy Test: 0.786\n",
      "f1_score Test: 0.805\n",
      "CPU times: user 1.64 s, sys: 85.3 ms, total: 1.72 s\n",
      "Wall time: 2.1 s\n"
     ]
    }
   ],
   "source": [
    "%%time\n",
    "# Создаем объект RandomForestClassifier\n",
    "rf = ensemble.RandomForestClassifier(random_state=random_state)\n",
    "# Обучаем модель\n",
    "rf.fit(X_train, y_train)\n",
    "# Делаем предсказания\n",
    "y_train_pred = rf.predict(X_train)\n",
    "y_test_pred = rf.predict(X_test)\n",
    "# Выводим метрики\n",
    "print(f'f1_score Train: {metrics.f1_score(y_train, y_train_pred):.3f}')\n",
    "print(f'accuracy Test: {metrics.accuracy_score(y_test, y_test_pred):.3f}')\n",
    "print(f'f1_score Test: {metrics.f1_score(y_test, y_test_pred):.3f}')"
   ]
  },
  {
   "cell_type": "markdown",
   "metadata": {},
   "source": [
    "**GridSearchCV**"
   ]
  },
  {
   "cell_type": "code",
   "execution_count": 22,
   "metadata": {},
   "outputs": [
    {
     "name": "stdout",
     "output_type": "stream",
     "text": [
      "accurasy Train: 0.940\n",
      "accurasy Test: 0.783\n",
      "f1_score Test: 0.803\n",
      "Наилучшие значения гиперпараметров: {'max_depth': 22, 'min_samples_leaf': 5, 'n_estimators': 170}\n",
      "CPU times: user 3.07 s, sys: 187 ms, total: 3.26 s\n",
      "Wall time: 2min 31s\n"
     ]
    }
   ],
   "source": [
    "%%time\n",
    "param_grid = {'n_estimators': list(range(80, 200, 30)),\n",
    "                       'min_samples_leaf': [5],\n",
    "                       'max_depth': list(np.linspace(20, 40, 10, dtype=int))\n",
    "                       }\n",
    "\n",
    "\n",
    "grid_search_forest = GridSearchCV(\n",
    "    estimator=ensemble.RandomForestClassifier(random_state=random_state),\n",
    "    param_grid=param_grid,\n",
    "    cv=5,\n",
    "    n_jobs=-1\n",
    "    )\n",
    "\n",
    "grid_search_forest.fit(X_train, y_train)\n",
    "print(f'accurasy Train: {grid_search_forest.score(X_train, y_train):.3f}')\n",
    "print(f'accurasy Test: {grid_search_forest.score(X_test, y_test):.3f}')\n",
    "print(f'f1_score Test: {metrics.f1_score(y_test, grid_search_forest.predict(X_test)):.3f}')\n",
    "print(f'Наилучшие значения гиперпараметров: {grid_search_forest.best_params_}')\n",
    "                    "
   ]
  },
  {
   "cell_type": "markdown",
   "metadata": {},
   "source": [
    "метрика слегка ухудшилась, уменьшилось переобучение"
   ]
  },
  {
   "cell_type": "markdown",
   "metadata": {},
   "source": [
    "**RandomizedSearchCV**"
   ]
  },
  {
   "cell_type": "code",
   "execution_count": 23,
   "metadata": {},
   "outputs": [
    {
     "name": "stdout",
     "output_type": "stream",
     "text": [
      "accurasy Train: 0.940\n",
      "accurasy Test: 0.788\n",
      "f1_score Test: 0.808\n",
      "Наилучшие значения гиперпараметров: {'n_estimators': 170, 'min_samples_leaf': 5, 'max_depth': 53}\n",
      "CPU times: user 2.43 s, sys: 86.8 ms, total: 2.52 s\n",
      "Wall time: 33.3 s\n"
     ]
    }
   ],
   "source": [
    "%%time\n",
    "param_distributions = {'n_estimators': list(range(80, 200, 30)),\n",
    "                       'min_samples_leaf': [5],\n",
    "                       'max_depth': list(np.linspace(20, 70, 10, dtype=int))\n",
    "                       }\n",
    "\n",
    "\n",
    "random_search_forest = RandomizedSearchCV(\n",
    "    estimator=ensemble.RandomForestClassifier(random_state=random_state),\n",
    "    param_distributions=param_distributions,\n",
    "    cv=5,\n",
    "    n_iter=10,\n",
    "    n_jobs=-1\n",
    ")\n",
    "\n",
    "random_search_forest.fit(X_train, y_train)\n",
    "print(f'accurasy Train: {random_search_forest.score(X_train, y_train):.3f}')\n",
    "print(f'accurasy Test: {random_search_forest.score(X_test, y_test):.3f}')\n",
    "print(f'f1_score Test: {metrics.f1_score(y_test, random_search_forest.predict(X_test)):.3f}')\n",
    "print(f'Наилучшие значения гиперпараметров: {random_search_forest.best_params_}')\n",
    "                    "
   ]
  },
  {
   "cell_type": "code",
   "execution_count": 24,
   "metadata": {},
   "outputs": [
    {
     "name": "stdout",
     "output_type": "stream",
     "text": [
      "accurasy Train: 0.940\n",
      "accurasy Test: 0.788\n",
      "f1_score Test: 0.808\n",
      "Наилучшие значения гиперпараметров: {'n_estimators': 170, 'min_samples_leaf': 5, 'max_depth': 36}\n",
      "CPU times: user 2.79 s, sys: 137 ms, total: 2.92 s\n",
      "Wall time: 1min 43s\n"
     ]
    }
   ],
   "source": [
    "%%time\n",
    "param_distributions = {'n_estimators': list(range(80, 200, 30)),\n",
    "                       'min_samples_leaf': [5],\n",
    "                       'max_depth': list(np.linspace(20, 70, 10, dtype=int))\n",
    "                       }\n",
    "\n",
    "\n",
    "random_search_forest_1 = RandomizedSearchCV(\n",
    "    estimator=ensemble.RandomForestClassifier(random_state=random_state),\n",
    "    param_distributions=param_distributions,\n",
    "    cv=5,\n",
    "    n_iter=30,\n",
    "    n_jobs=-1\n",
    ")\n",
    "\n",
    "random_search_forest_1.fit(X_train, y_train)\n",
    "print(f'accurasy Train: {random_search_forest_1.score(X_train, y_train):.3f}')\n",
    "print(f'accurasy Test: {random_search_forest_1.score(X_test, y_test):.3f}')\n",
    "print(f'f1_score Test: {metrics.f1_score(y_test, random_search_forest_1.predict(X_test)):.3f}')\n",
    "print(f'Наилучшие значения гиперпараметров: {random_search_forest_1.best_params_}')\n",
    "                    "
   ]
  },
  {
   "cell_type": "markdown",
   "metadata": {},
   "source": [
    "метрика улучшилась, увеличение кол-ва итераций не улучшило результат"
   ]
  },
  {
   "cell_type": "markdown",
   "metadata": {},
   "source": [
    "**Hyperopt**"
   ]
  },
  {
   "cell_type": "code",
   "execution_count": 25,
   "metadata": {},
   "outputs": [
    {
     "name": "stdout",
     "output_type": "stream",
     "text": [
      "CPU times: user 267 µs, sys: 226 µs, total: 493 µs\n",
      "Wall time: 510 µs\n"
     ]
    }
   ],
   "source": [
    "%%time\n",
    "# Задаем пространство поиска гиперпараметров\n",
    "space = {'n_estimators': hp.quniform(label='n_estimators', low=100, high=200, q=1),\n",
    "         'max_depth': hp.quniform(label='max_depth', low=15, high=30, q=1),\n",
    "         'min_samples_leaf': hp.quniform(label='min_samples_leaf', low=2, high=10, q=1)\n",
    "         }\n",
    "\n",
    "# Создаем функцию для минимизации\n",
    "def hyperopt_rf(params, cv=5, X=X_train, y=y_train, random_state=random_state):\n",
    "    # Функция получает комбинацию гиперпараметров в params\n",
    "    params = {'n_estimators': int(params['n_estimators']),\n",
    "              'max_depth': int(params['max_depth']),\n",
    "              'min_samples_leaf': int(params['min_samples_leaf'])                 \n",
    "              }\n",
    "    # Используем эту комбинацию для построения модели\n",
    "    model = ensemble.RandomForestClassifier(**params, random_state=random_state)\n",
    "    \n",
    "    # Обучаем модель\n",
    "    model.fit(X, y)\n",
    "    score = metrics.f1_score(y, model.predict(X))\n",
    "    \n",
    "    return -score\n"
   ]
  },
  {
   "cell_type": "code",
   "execution_count": 26,
   "metadata": {},
   "outputs": [
    {
     "name": "stdout",
     "output_type": "stream",
     "text": [
      "100%|██████████| 50/50 [01:51<00:00,  2.24s/trial, best loss: -0.99079754601227]  \n",
      "Наилучшие значения гиперпараметров: {'max_depth': 29.0, 'min_samples_leaf': 2.0, 'n_estimators': 167.0}\n",
      "CPU times: user 1min 41s, sys: 2.51 s, total: 1min 44s\n",
      "Wall time: 1min 51s\n"
     ]
    }
   ],
   "source": [
    "%%time\n",
    "# Начинаем подбор гиперпараметров\n",
    "trials_rf = Trials() # используется для логирования результатов\n",
    "\n",
    "best_rf = fmin(hyperopt_rf, # наша функция\n",
    "               space=space, # пространство гиперпараметров\n",
    "               algo=tpe.suggest, #алгоритм оптимизации, установлен по умолчанию\n",
    "               max_evals=50, # максимальное количество итераций\n",
    "               trials=trials_rf, #логирование результатов\n",
    "               rstate=np.random.default_rng(random_state) #фиксируем для повторяемости результата\n",
    "               )\n",
    "\n",
    "print(f'Наилучшие значения гиперпараметров: {best_rf}')"
   ]
  },
  {
   "cell_type": "code",
   "execution_count": 27,
   "metadata": {},
   "outputs": [
    {
     "name": "stdout",
     "output_type": "stream",
     "text": [
      "f1_score на обучающем наборе: 0.99\n",
      "accuracy на тестовом наборе: 0.79\n",
      "f1_score на тестовом наборе: 0.81\n"
     ]
    }
   ],
   "source": [
    "# Обучаем модель на подобранных параметрах\n",
    "model = ensemble.RandomForestClassifier(\n",
    "    random_state=random_state,\n",
    "    n_estimators=int(best_rf['n_estimators']),\n",
    "    max_depth=int(best_rf['max_depth']),\n",
    "    min_samples_leaf=int(best_rf['min_samples_leaf'])\n",
    ")\n",
    "model.fit(X_train, y_train)\n",
    "# Делаем предсказание, считаем метрики\n",
    "y_train_pred = model.predict(X_train)\n",
    "y_test_pred = model.predict(X_test)\n",
    "print(f'f1_score на обучающем наборе: {metrics.f1_score(y_train, y_train_pred):.2f}')\n",
    "print(f'accuracy на тестовом наборе: {model.score(X_test, y_test):.2f}')\n",
    "print(f'f1_score на тестовом наборе: {metrics.f1_score(y_test, y_test_pred):.2f}')\n"
   ]
  },
  {
   "cell_type": "markdown",
   "metadata": {},
   "source": [
    "Метрика улучшилась, но увеличилось переобучение"
   ]
  },
  {
   "cell_type": "markdown",
   "metadata": {},
   "source": [
    "**Optuna**"
   ]
  },
  {
   "cell_type": "code",
   "execution_count": 28,
   "metadata": {},
   "outputs": [
    {
     "name": "stderr",
     "output_type": "stream",
     "text": [
      "\u001b[32m[I 2023-05-07 14:36:07,238]\u001b[0m A new study created in memory with name: RandomForestClassifier\u001b[0m\n",
      "\u001b[32m[I 2023-05-07 14:36:12,458]\u001b[0m Trial 0 finished with value: 0.8052062492973638 and parameters: {'n_estimators': 134, 'max_depth': 30, 'min_samples_leaf': 7}. Best is trial 0 with value: 0.8052062492973638.\u001b[0m\n",
      "\u001b[32m[I 2023-05-07 14:36:16,610]\u001b[0m Trial 1 finished with value: 0.7966218024699645 and parameters: {'n_estimators': 112, 'max_depth': 15, 'min_samples_leaf': 9}. Best is trial 0 with value: 0.8052062492973638.\u001b[0m\n",
      "\u001b[32m[I 2023-05-07 14:36:23,013]\u001b[0m Trial 2 finished with value: 0.7964347023444869 and parameters: {'n_estimators': 191, 'max_depth': 17, 'min_samples_leaf': 10}. Best is trial 0 with value: 0.8052062492973638.\u001b[0m\n",
      "\u001b[32m[I 2023-05-07 14:36:27,446]\u001b[0m Trial 3 finished with value: 0.8050942148278594 and parameters: {'n_estimators': 105, 'max_depth': 22, 'min_samples_leaf': 5}. Best is trial 0 with value: 0.8052062492973638.\u001b[0m\n",
      "\u001b[32m[I 2023-05-07 14:36:33,119]\u001b[0m Trial 4 finished with value: 0.805231147724092 and parameters: {'n_estimators': 127, 'max_depth': 27, 'min_samples_leaf': 5}. Best is trial 4 with value: 0.805231147724092.\u001b[0m\n",
      "\u001b[32m[I 2023-05-07 14:36:40,537]\u001b[0m Trial 5 finished with value: 0.8070131053383932 and parameters: {'n_estimators': 193, 'max_depth': 29, 'min_samples_leaf': 5}. Best is trial 5 with value: 0.8070131053383932.\u001b[0m\n",
      "\u001b[32m[I 2023-05-07 14:36:48,108]\u001b[0m Trial 6 finished with value: 0.8141235592816646 and parameters: {'n_estimators': 169, 'max_depth': 16, 'min_samples_leaf': 2}. Best is trial 6 with value: 0.8141235592816646.\u001b[0m\n",
      "\u001b[32m[I 2023-05-07 14:36:52,109]\u001b[0m Trial 7 finished with value: 0.8040489760914692 and parameters: {'n_estimators': 104, 'max_depth': 24, 'min_samples_leaf': 7}. Best is trial 6 with value: 0.8141235592816646.\u001b[0m\n",
      "\u001b[32m[I 2023-05-07 14:36:59,582]\u001b[0m Trial 8 finished with value: 0.8145927062585724 and parameters: {'n_estimators': 126, 'max_depth': 21, 'min_samples_leaf': 2}. Best is trial 8 with value: 0.8145927062585724.\u001b[0m\n",
      "\u001b[32m[I 2023-05-07 14:37:08,944]\u001b[0m Trial 9 finished with value: 0.8012656663541124 and parameters: {'n_estimators': 147, 'max_depth': 30, 'min_samples_leaf': 8}. Best is trial 8 with value: 0.8145927062585724.\u001b[0m\n",
      "\u001b[32m[I 2023-05-07 14:37:16,563]\u001b[0m Trial 10 finished with value: 0.811161614592183 and parameters: {'n_estimators': 163, 'max_depth': 20, 'min_samples_leaf': 2}. Best is trial 8 with value: 0.8145927062585724.\u001b[0m\n",
      "\u001b[32m[I 2023-05-07 14:37:24,506]\u001b[0m Trial 11 finished with value: 0.8129034319071632 and parameters: {'n_estimators': 168, 'max_depth': 19, 'min_samples_leaf': 2}. Best is trial 8 with value: 0.8145927062585724.\u001b[0m\n",
      "\u001b[32m[I 2023-05-07 14:37:31,811]\u001b[0m Trial 12 finished with value: 0.8143594094652707 and parameters: {'n_estimators': 170, 'max_depth': 15, 'min_samples_leaf': 3}. Best is trial 8 with value: 0.8145927062585724.\u001b[0m\n",
      "\u001b[32m[I 2023-05-07 14:37:38,134]\u001b[0m Trial 13 finished with value: 0.8098084058914994 and parameters: {'n_estimators': 144, 'max_depth': 25, 'min_samples_leaf': 3}. Best is trial 8 with value: 0.8145927062585724.\u001b[0m\n",
      "\u001b[32m[I 2023-05-07 14:37:46,385]\u001b[0m Trial 14 finished with value: 0.8065498054613144 and parameters: {'n_estimators': 181, 'max_depth': 19, 'min_samples_leaf': 4}. Best is trial 8 with value: 0.8145927062585724.\u001b[0m\n",
      "\u001b[32m[I 2023-05-07 14:37:52,438]\u001b[0m Trial 15 finished with value: 0.812817532061376 and parameters: {'n_estimators': 127, 'max_depth': 22, 'min_samples_leaf': 3}. Best is trial 8 with value: 0.8145927062585724.\u001b[0m\n",
      "\u001b[32m[I 2023-05-07 14:37:59,040]\u001b[0m Trial 16 finished with value: 0.8092496881621543 and parameters: {'n_estimators': 156, 'max_depth': 17, 'min_samples_leaf': 4}. Best is trial 8 with value: 0.8145927062585724.\u001b[0m\n",
      "\u001b[32m[I 2023-05-07 14:38:07,232]\u001b[0m Trial 17 finished with value: 0.8127283210689477 and parameters: {'n_estimators': 180, 'max_depth': 20, 'min_samples_leaf': 3}. Best is trial 8 with value: 0.8145927062585724.\u001b[0m\n",
      "\u001b[32m[I 2023-05-07 14:38:12,397]\u001b[0m Trial 18 finished with value: 0.8102463232945689 and parameters: {'n_estimators': 118, 'max_depth': 24, 'min_samples_leaf': 4}. Best is trial 8 with value: 0.8145927062585724.\u001b[0m\n",
      "\u001b[32m[I 2023-05-07 14:38:17,868]\u001b[0m Trial 19 finished with value: 0.8005594289467229 and parameters: {'n_estimators': 137, 'max_depth': 27, 'min_samples_leaf': 6}. Best is trial 8 with value: 0.8145927062585724.\u001b[0m\n",
      "\u001b[32m[I 2023-05-07 14:38:24,558]\u001b[0m Trial 20 finished with value: 0.8106573481643888 and parameters: {'n_estimators': 155, 'max_depth': 18, 'min_samples_leaf': 3}. Best is trial 8 with value: 0.8145927062585724.\u001b[0m\n",
      "\u001b[32m[I 2023-05-07 14:38:32,142]\u001b[0m Trial 21 finished with value: 0.8133705425444411 and parameters: {'n_estimators': 172, 'max_depth': 15, 'min_samples_leaf': 2}. Best is trial 8 with value: 0.8145927062585724.\u001b[0m\n",
      "\u001b[32m[I 2023-05-07 14:38:39,921]\u001b[0m Trial 22 finished with value: 0.8124449037252329 and parameters: {'n_estimators': 182, 'max_depth': 16, 'min_samples_leaf': 2}. Best is trial 8 with value: 0.8145927062585724.\u001b[0m\n",
      "\u001b[32m[I 2023-05-07 14:38:47,135]\u001b[0m Trial 23 finished with value: 0.81316730972333 and parameters: {'n_estimators': 162, 'max_depth': 15, 'min_samples_leaf': 2}. Best is trial 8 with value: 0.8145927062585724.\u001b[0m\n",
      "\u001b[32m[I 2023-05-07 14:38:54,678]\u001b[0m Trial 24 finished with value: 0.8114242481971132 and parameters: {'n_estimators': 172, 'max_depth': 17, 'min_samples_leaf': 3}. Best is trial 8 with value: 0.8145927062585724.\u001b[0m\n",
      "\u001b[32m[I 2023-05-07 14:39:03,264]\u001b[0m Trial 25 finished with value: 0.8071153857780432 and parameters: {'n_estimators': 199, 'max_depth': 21, 'min_samples_leaf': 4}. Best is trial 8 with value: 0.8145927062585724.\u001b[0m\n",
      "\u001b[32m[I 2023-05-07 14:39:11,361]\u001b[0m Trial 26 finished with value: 0.8125878041797125 and parameters: {'n_estimators': 153, 'max_depth': 18, 'min_samples_leaf': 2}. Best is trial 8 with value: 0.8145927062585724.\u001b[0m\n",
      "\u001b[32m[I 2023-05-07 14:39:17,975]\u001b[0m Trial 27 finished with value: 0.8113940392489303 and parameters: {'n_estimators': 162, 'max_depth': 16, 'min_samples_leaf': 3}. Best is trial 8 with value: 0.8145927062585724.\u001b[0m\n",
      "\u001b[32m[I 2023-05-07 14:39:23,780]\u001b[0m Trial 28 finished with value: 0.8076505112543213 and parameters: {'n_estimators': 138, 'max_depth': 16, 'min_samples_leaf': 4}. Best is trial 8 with value: 0.8145927062585724.\u001b[0m\n",
      "\u001b[32m[I 2023-05-07 14:39:28,574]\u001b[0m Trial 29 finished with value: 0.806247691407709 and parameters: {'n_estimators': 128, 'max_depth': 19, 'min_samples_leaf': 6}. Best is trial 8 with value: 0.8145927062585724.\u001b[0m\n",
      "\u001b[32m[I 2023-05-07 14:39:37,450]\u001b[0m Trial 30 finished with value: 0.8140049498869315 and parameters: {'n_estimators': 176, 'max_depth': 21, 'min_samples_leaf': 2}. Best is trial 8 with value: 0.8145927062585724.\u001b[0m\n",
      "\u001b[32m[I 2023-05-07 14:39:45,618]\u001b[0m Trial 31 finished with value: 0.8149939720600801 and parameters: {'n_estimators': 175, 'max_depth': 21, 'min_samples_leaf': 2}. Best is trial 31 with value: 0.8149939720600801.\u001b[0m\n",
      "\u001b[32m[I 2023-05-07 14:39:53,819]\u001b[0m Trial 32 finished with value: 0.8123554152544775 and parameters: {'n_estimators': 188, 'max_depth': 23, 'min_samples_leaf': 3}. Best is trial 31 with value: 0.8149939720600801.\u001b[0m\n",
      "\u001b[32m[I 2023-05-07 14:40:01,647]\u001b[0m Trial 33 finished with value: 0.8134715995459869 and parameters: {'n_estimators': 167, 'max_depth': 21, 'min_samples_leaf': 2}. Best is trial 31 with value: 0.8149939720600801.\u001b[0m\n",
      "\u001b[32m[I 2023-05-07 14:40:07,193]\u001b[0m Trial 34 finished with value: 0.80953229141286 and parameters: {'n_estimators': 118, 'max_depth': 18, 'min_samples_leaf': 3}. Best is trial 31 with value: 0.8149939720600801.\u001b[0m\n",
      "\u001b[32m[I 2023-05-07 14:40:13,603]\u001b[0m Trial 35 finished with value: 0.7957746447974202 and parameters: {'n_estimators': 186, 'max_depth': 15, 'min_samples_leaf': 10}. Best is trial 31 with value: 0.8149939720600801.\u001b[0m\n",
      "\u001b[32m[I 2023-05-07 14:40:20,707]\u001b[0m Trial 36 finished with value: 0.8061439909354904 and parameters: {'n_estimators': 175, 'max_depth': 25, 'min_samples_leaf': 5}. Best is trial 31 with value: 0.8149939720600801.\u001b[0m\n",
      "\u001b[32m[I 2023-05-07 14:40:25,835]\u001b[0m Trial 37 finished with value: 0.7956761852819165 and parameters: {'n_estimators': 143, 'max_depth': 23, 'min_samples_leaf': 9}. Best is trial 31 with value: 0.8149939720600801.\u001b[0m\n",
      "\u001b[32m[I 2023-05-07 14:40:34,565]\u001b[0m Trial 38 finished with value: 0.8113060361020414 and parameters: {'n_estimators': 194, 'max_depth': 20, 'min_samples_leaf': 2}. Best is trial 31 with value: 0.8149939720600801.\u001b[0m\n",
      "\u001b[32m[I 2023-05-07 14:40:38,652]\u001b[0m Trial 39 finished with value: 0.8061539105224078 and parameters: {'n_estimators': 110, 'max_depth': 27, 'min_samples_leaf': 7}. Best is trial 31 with value: 0.8149939720600801.\u001b[0m\n",
      "\u001b[32m[I 2023-05-07 14:40:45,415]\u001b[0m Trial 40 finished with value: 0.804877966549282 and parameters: {'n_estimators': 166, 'max_depth': 22, 'min_samples_leaf': 5}. Best is trial 31 with value: 0.8149939720600801.\u001b[0m\n",
      "\u001b[32m[I 2023-05-07 14:40:53,531]\u001b[0m Trial 41 finished with value: 0.8140049498869315 and parameters: {'n_estimators': 176, 'max_depth': 21, 'min_samples_leaf': 2}. Best is trial 31 with value: 0.8149939720600801.\u001b[0m\n",
      "\u001b[32m[I 2023-05-07 14:41:00,991]\u001b[0m Trial 42 finished with value: 0.8139836109290416 and parameters: {'n_estimators': 159, 'max_depth': 21, 'min_samples_leaf': 2}. Best is trial 31 with value: 0.8149939720600801.\u001b[0m\n",
      "\u001b[32m[I 2023-05-07 14:41:07,896]\u001b[0m Trial 43 finished with value: 0.8142566620656995 and parameters: {'n_estimators': 150, 'max_depth': 17, 'min_samples_leaf': 2}. Best is trial 31 with value: 0.8149939720600801.\u001b[0m\n",
      "\u001b[32m[I 2023-05-07 14:41:14,367]\u001b[0m Trial 44 finished with value: 0.8100874476025783 and parameters: {'n_estimators': 148, 'max_depth': 16, 'min_samples_leaf': 3}. Best is trial 31 with value: 0.8149939720600801.\u001b[0m\n",
      "\u001b[32m[I 2023-05-07 14:41:22,736]\u001b[0m Trial 45 finished with value: 0.813164159156624 and parameters: {'n_estimators': 169, 'max_depth': 17, 'min_samples_leaf': 2}. Best is trial 31 with value: 0.8149939720600801.\u001b[0m\n",
      "\u001b[32m[I 2023-05-07 14:41:29,052]\u001b[0m Trial 46 finished with value: 0.8100046754585671 and parameters: {'n_estimators': 130, 'max_depth': 18, 'min_samples_leaf': 3}. Best is trial 31 with value: 0.8149939720600801.\u001b[0m\n",
      "\u001b[32m[I 2023-05-07 14:41:35,512]\u001b[0m Trial 47 finished with value: 0.8117000603676235 and parameters: {'n_estimators': 150, 'max_depth': 15, 'min_samples_leaf': 4}. Best is trial 31 with value: 0.8149939720600801.\u001b[0m\n",
      "\u001b[32m[I 2023-05-07 14:41:41,395]\u001b[0m Trial 48 finished with value: 0.81385582189286 and parameters: {'n_estimators': 123, 'max_depth': 19, 'min_samples_leaf': 2}. Best is trial 31 with value: 0.8149939720600801.\u001b[0m\n",
      "\u001b[32m[I 2023-05-07 14:41:47,693]\u001b[0m Trial 49 finished with value: 0.8085684196270961 and parameters: {'n_estimators': 143, 'max_depth': 17, 'min_samples_leaf': 3}. Best is trial 31 with value: 0.8149939720600801.\u001b[0m\n"
     ]
    },
    {
     "name": "stdout",
     "output_type": "stream",
     "text": [
      "Наилучшие значения гиперпараметров: {'n_estimators': 175, 'max_depth': 21, 'min_samples_leaf': 2}\n",
      "f1_score Train: 0.8149939720600801\n",
      "accuracy Test: 0.997\n",
      "f1_score Test: 0.9975490196078431\n",
      "CPU times: user 2.88 s, sys: 1.36 s, total: 4.24 s\n",
      "Wall time: 5min 41s\n"
     ]
    }
   ],
   "source": [
    "%%time\n",
    "# Настроим оптимизацию гиперпараметров\n",
    "def optuna_rf(trial_rf):\n",
    "    # Задаем пространство поиска гиперпараметров\n",
    "    n_estimators = trial_rf.suggest_int('n_estimators', 100, 200, 1)\n",
    "    max_depth = trial_rf.suggest_int('max_depth', 15, 30, 1)\n",
    "    min_samples_leaf = trial_rf.suggest_int('min_samples_leaf', 2, 10, 1)\n",
    "    \n",
    "    # Создаем модель\n",
    "    model = ensemble.RandomForestClassifier(n_estimators=n_estimators,\n",
    "                                            max_depth=max_depth,\n",
    "                                            min_samples_leaf=min_samples_leaf,\n",
    "                                            random_state=random_state)\n",
    "    # Обучаем модель, применяем кросс-валидацию\n",
    "    score = cross_val_score(model, X, y, cv=5, scoring='f1', n_jobs=-1).mean()\n",
    "    \n",
    "    return score\n",
    "\n",
    "\n",
    "study = optuna.create_study(study_name='RandomForestClassifier', direction='maximize')\n",
    "# Ищем лучшую оптимизацию гиперпараметров n_trials раз\n",
    "study.optimize(optuna_rf, n_trials=50)\n",
    "\n",
    "# Выводим результаты на обучающей выборке\n",
    "print(f'Наилучшие значения гиперпараметров: {study.best_params}')\n",
    "print(f'f1_score Train: {study.best_value}')\n",
    "\n",
    "#  Обучим модель с полученными параметрами\n",
    "model = ensemble.RandomForestClassifier(**study.best_params, random_state=random_state)\n",
    "model.fit(X_test, y_test)\n",
    "y_test_pred = model.predict(X_test)\n",
    "print(f'accuracy Test: {model.score(X_test, y_test):.3f}')\n",
    "print(f'f1_score Test: {metrics.f1_score(y_test, y_test_pred)}')   "
   ]
  },
  {
   "cell_type": "markdown",
   "metadata": {},
   "source": [
    "мне кажется, получились каки-то нереальные значения: f1_score в тестовой выборке почти равна 1 и выше, чем на тестовой. Точность также пракически 1"
   ]
  }
 ],
 "metadata": {
  "kernelspec": {
   "display_name": "Python 3.9.13 64-bit",
   "language": "python",
   "name": "python3"
  },
  "language_info": {
   "codemirror_mode": {
    "name": "ipython",
    "version": 3
   },
   "file_extension": ".py",
   "mimetype": "text/x-python",
   "name": "python",
   "nbconvert_exporter": "python",
   "pygments_lexer": "ipython3",
   "version": "3.9.13"
  },
  "orig_nbformat": 4,
  "vscode": {
   "interpreter": {
    "hash": "aee8b7b246df8f9039afb4144a1f6fd8d2ca17a180786b69acc140d282b71a49"
   }
  }
 },
 "nbformat": 4,
 "nbformat_minor": 2
}
